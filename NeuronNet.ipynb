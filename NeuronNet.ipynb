{
 "cells": [
  {
   "cell_type": "code",
   "execution_count": 40,
   "metadata": {},
   "outputs": [],
   "source": [
    "import numpy as np\n",
    "\n",
    "class DeepNet(object):\n",
    "    # y ~ Ax + b\n",
    "    def __init__(self, sizes):\n",
    "        self.num_layers = len(sizes)\n",
    "        self.sizes = sizes\n",
    "        self.b = [ np.random.rand(y, 1) for y in sizes[1:] ]\n",
    "        self.A = [ np.random.rand(y, x) for y, x in zip(sizes[1:], sizes[:-1]) ]\n"
   ]
  },
  {
   "cell_type": "code",
   "execution_count": 41,
   "metadata": {},
   "outputs": [],
   "source": [
    "net = DeepNet([3,4,2,1])"
   ]
  },
  {
   "cell_type": "code",
   "execution_count": 42,
   "metadata": {},
   "outputs": [
    {
     "data": {
      "text/plain": [
       "[array([[0.89781173],\n",
       "        [0.33775256],\n",
       "        [0.55138773],\n",
       "        [0.09376404]]),\n",
       " array([[0.34287926],\n",
       "        [0.47474383]]),\n",
       " array([[0.78312131]])]"
      ]
     },
     "execution_count": 42,
     "metadata": {},
     "output_type": "execute_result"
    }
   ],
   "source": [
    "net.b"
   ]
  },
  {
   "cell_type": "code",
   "execution_count": 43,
   "metadata": {},
   "outputs": [
    {
     "data": {
      "text/plain": [
       "[array([[0.45093907, 0.46312342, 0.55976897],\n",
       "        [0.58941615, 0.25782921, 0.33918561],\n",
       "        [0.36733226, 0.64235887, 0.67072904],\n",
       "        [0.70151616, 0.52449352, 0.41015912]]),\n",
       " array([[0.2147813 , 0.04842467, 0.30923646, 0.92145845],\n",
       "        [0.12055936, 0.99720339, 0.08992844, 0.40838426]]),\n",
       " array([[0.49121158, 0.64383346]])]"
      ]
     },
     "execution_count": 43,
     "metadata": {},
     "output_type": "execute_result"
    }
   ],
   "source": [
    "net.A"
   ]
  },
  {
   "cell_type": "code",
   "execution_count": null,
   "metadata": {},
   "outputs": [],
   "source": []
  }
 ],
 "metadata": {
  "kernelspec": {
   "display_name": "Python 3",
   "language": "python",
   "name": "python3"
  },
  "language_info": {
   "codemirror_mode": {
    "name": "ipython",
    "version": 3
   },
   "file_extension": ".py",
   "mimetype": "text/x-python",
   "name": "python",
   "nbconvert_exporter": "python",
   "pygments_lexer": "ipython3",
   "version": "3.7.7"
  }
 },
 "nbformat": 4,
 "nbformat_minor": 4
}
