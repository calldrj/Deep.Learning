{
 "cells": [
  {
   "cell_type": "code",
   "execution_count": 1,
   "metadata": {},
   "outputs": [],
   "source": [
    "from random import random, randint\n",
    "from math import exp\n",
    "from copy import deepcopy"
   ]
  },
  {
   "cell_type": "code",
   "execution_count": 37,
   "metadata": {},
   "outputs": [],
   "source": [
    "# Return the size of matrix M\n",
    "def size_matrix(M):\n",
    "    return [len(M), len(M[0])]\n",
    "\n",
    "# Return the size of vector v\n",
    "def size_vector(v):\n",
    "    return len(v)\n",
    "\n",
    "# Multiply matrix M with vector v\n",
    "def dot(M, v):\n",
    "    d = []\n",
    "    for r in range(len(M)):\n",
    "        p = 0\n",
    "        for c in range(len(M[r])):\n",
    "            p += M[r][c] * v[c]\n",
    "        d.append(p)\n",
    "    return d\n",
    "\n",
    "# Cross product between two vectors u and v\n",
    "def cross(u, v):\n",
    "    M = []\n",
    "    for r in range(len(u)):\n",
    "        x = []\n",
    "        for c in range(len(v)):\n",
    "            x.append(u[r] * v[c])\n",
    "        M.append(x)\n",
    "    return M\n",
    "\n",
    "# Dot product of two vectors u and v, elementwise\n",
    "def ew_dot(u, v):\n",
    "    w = []\n",
    "    for k in range(u):\n",
    "        w.append(u[k] * v[k])\n",
    "    return w\n",
    "\n",
    "# Add two vectors u and v\n",
    "def add_vector(u, v):\n",
    "    w = []\n",
    "    for k in range(len(v)):\n",
    "        w.append(u[k] + v[k])\n",
    "\n",
    "# Add two matrices M and N\n",
    "def add_matrix(M, N):\n",
    "    W = []\n",
    "    for r in range(len(M)):\n",
    "        v = []\n",
    "        for c in range(len(M[r])):\n",
    "             v.append(M[r][c] + N[r][c])\n",
    "        W.append(v)\n",
    "    return W\n",
    "\n",
    "# Compute the sigmoid function of vector v and the derivative g'(z)\n",
    "def sigmoid(v):\n",
    "    s = []\n",
    "    d = []\n",
    "    for k in range(len(v)):\n",
    "        sk = 1.0 / (1 + exp(-v[k]))\n",
    "        s.append(sk)\n",
    "        d.append(sk * (1 - sk))\n",
    "    return [s, d]\n",
    "\n",
    "# Multiply vector v by a scale a\n",
    "def scale_vector(v, a):\n",
    "    u = []\n",
    "    for k in range(len(v)):\n",
    "        u.append(a * v[k])\n",
    "    return u\n",
    "\n",
    "# Multiply matrix M by a scale a\n",
    "def scale_matrix(M, a):\n",
    "    N = []\n",
    "    for r in range(len(M)):\n",
    "        v = []\n",
    "        for c in range(len(M[r])):\n",
    "            v.append(a * M[r][c])\n",
    "        M.append(v)\n",
    "    return M\n",
    "\n",
    "# Transpose matrix M\n",
    "def transpose(M):\n",
    "    T = []\n",
    "    for c in range(len(M[0])):\n",
    "        v = []\n",
    "        for r in range(len(M)):\n",
    "            v.append(M[r][c])\n",
    "        T.append(v)\n",
    "    return T\n",
    "\n",
    "# Compute the activation in every layer of forward propagation\n",
    "def forpro(y, x, W1, W2, b1, b2):\n",
    "    # Layer 1\n",
    "    h1 = x\n",
    "    tp = dot(W1, x)\n",
    "    tp = add_vector(tp, b1)\n",
    "    [h2, d2] = sigmoid(tp)\n",
    "    \n",
    "    # Layer 2\n",
    "    tp = dot[W2, h2]\n",
    "    tp = add_vector(tp, b2)\n",
    "    [h3, d3] = sigmoid(tp)\n",
    "    \n",
    "    # Computer the objective error\n",
    "    error = h3[0] - y\n",
    "    squared_error = error * error\n",
    "    return [squared_error, error, h1, h2, h3, d2, d3]\n",
    "\n",
    "# Compute the gradient for every parameter\n",
    "def backprop(y, x, W1, W2, b1, b2):\n",
    "    [squared_error, error, h1, h2, h3, d2, d3] = forpro(y, x, W1, W2, b1, b2)\n",
    "    \n",
    "    \n",
    "    return [squared_error, W1.grad, W2.grad, b1.grad, b2.grad]"
   ]
  },
  {
   "cell_type": "code",
   "execution_count": 58,
   "metadata": {},
   "outputs": [],
   "source": [
    "M = [[1,2,3], [1,2,3]]\n",
    "v = [[10,20,30], [-1,-2,-3]]\n",
    "A = add_matrix(M, v)"
   ]
  },
  {
   "cell_type": "code",
   "execution_count": 59,
   "metadata": {},
   "outputs": [
    {
     "data": {
      "text/plain": [
       "[[0.5, 0.5, 0.5], [0.25, 0.25, 0.25]]"
      ]
     },
     "execution_count": 59,
     "metadata": {},
     "output_type": "execute_result"
    }
   ],
   "source": [
    "sigmoid(A[1])"
   ]
  },
  {
   "cell_type": "code",
   "execution_count": null,
   "metadata": {},
   "outputs": [],
   "source": []
  }
 ],
 "metadata": {
  "kernelspec": {
   "display_name": "Python 3",
   "language": "python",
   "name": "python3"
  },
  "language_info": {
   "codemirror_mode": {
    "name": "ipython",
    "version": 3
   },
   "file_extension": ".py",
   "mimetype": "text/x-python",
   "name": "python",
   "nbconvert_exporter": "python",
   "pygments_lexer": "ipython3",
   "version": "3.7.7"
  }
 },
 "nbformat": 4,
 "nbformat_minor": 4
}
